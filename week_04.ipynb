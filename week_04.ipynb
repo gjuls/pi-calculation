{
 "cells": [
  {
   "cell_type": "raw",
   "metadata": {
    "collapsed": false
   },
   "source": [
    "Esercizio 6 - pi in laboratorio di fisica (*)"
   ]
  },
  {
   "cell_type": "code",
   "execution_count": 1,
   "metadata": {
    "collapsed": false,
    "scrolled": true
   },
   "outputs": [
    {
     "name": "stdout",
     "output_type": "stream",
     "text": [
      "7/6 1/3\n"
     ]
    }
   ],
   "source": [
    "#Punto 1\n",
    "from fractions import Fraction\n",
    "\n",
    "\n",
    "a = Fraction(1, 2)\n",
    "b = Fraction(2, 3)\n",
    "print(a + b, a * b)"
   ]
  },
  {
   "cell_type": "code",
   "execution_count": 2,
   "metadata": {
    "collapsed": false
   },
   "outputs": [
   ],
   "source": [
    "class Corpo: #Punto 2\n",
    "    def __init__(self, pos):\n",
    "        self.posizione = Fraction(pos)  #converto input in frazione prima di salvarlo\n",
    "\n",
    "    def muoviti_per_t(self, tempo): #Punto 6\n",
    "        self.posizione = self.posizione + self.velocità() * Fraction(tempo)\n",
    "\n",
    "    def __lt__(self, other): #Punto 9\n",
    "        if ((self.posizione < other.posizione)\n",
    "                or (self.posizione == other.posizione\n",
    "                    and self.velocità() < other.velocità())):\n",
    "            return True\n",
    "        return False\n",
    "\n",
    "    def __le__(self, other): #Punto 9\n",
    "        if ((self.posizione < other.posizione)\n",
    "                or (self.posizione == other.posizione\n",
    "                    and self.velocità() <= other.velocità())):\n",
    "            return True\n",
    "        return False\n",
    "\n",
    "    def kin(self): #Punto 12\n",
    "        if self.mobile()==False:\n",
    "            return Fraction(0)\n",
    "        return Fraction(0.5)*self.m*self.velocità()*self.velocità()"
   ]
  },
  {
   "cell_type": "code",
   "execution_count": 3,
   "metadata": {
    "collapsed": false
   },
   "outputs": [
   ],
   "source": [
    "m = Corpo(2)"
   ]
  },
  {
   "cell_type": "code",
   "execution_count": 4,
   "metadata": {
    "collapsed": false
   },
   "outputs": [
    {
     "data": {
      "text/plain": [
       "__main__.Corpo"
      ]
     },
     "execution_count": 4,
     "metadata": {
     },
     "output_type": "execute_result"
    }
   ],
   "source": [
    "type(m)"
   ]
  },
  {
   "cell_type": "code",
   "execution_count": 5,
   "metadata": {
    "collapsed": false
   },
   "outputs": [
    {
     "data": {
      "text/plain": [
       "Fraction(2, 1)"
      ]
     },
     "execution_count": 5,
     "metadata": {
     },
     "output_type": "execute_result"
    }
   ],
   "source": [
    "m.posizione"
   ]
  },
  {
   "cell_type": "code",
   "execution_count": 6,
   "metadata": {
    "collapsed": false
   },
   "outputs": [
    {
     "data": {
      "text/plain": [
       "Fraction(8, 3)"
      ]
     },
     "execution_count": 6,
     "metadata": {
     },
     "output_type": "execute_result"
    }
   ],
   "source": [
    "m.posizione + b"
   ]
  },
  {
   "cell_type": "code",
   "execution_count": 7,
   "metadata": {
    "collapsed": false
   },
   "outputs": [
   ],
   "source": [
    "class Muro(Corpo): #Punto 3\n",
    "    def mobile(self):\n",
    "        return False\n",
    "\n",
    "    def __repr__(self):\n",
    "        rep = 'Muro({})'.format(self.posizione)\n",
    "        return rep\n",
    "\n",
    "    def velocità(self):\n",
    "        return Fraction(0)"
   ]
  },
  {
   "cell_type": "code",
   "execution_count": 8,
   "metadata": {
    "collapsed": false
   },
   "outputs": [
    {
     "data": {
      "text/plain": [
       "Muro(0)"
      ]
     },
     "execution_count": 8,
     "metadata": {
     },
     "output_type": "execute_result"
    }
   ],
   "source": [
    "wall = Muro(0)\n",
    "wall"
   ]
  },
  {
   "cell_type": "code",
   "execution_count": 9,
   "metadata": {
    "collapsed": false
   },
   "outputs": [
    {
     "data": {
      "text/plain": [
       "Fraction(0, 1)"
      ]
     },
     "execution_count": 9,
     "metadata": {
     },
     "output_type": "execute_result"
    }
   ],
   "source": [
    "wall.kin()"
   ]
  },
  {
   "cell_type": "code",
   "execution_count": 10,
   "metadata": {
    "collapsed": false
   },
   "outputs": [
   ],
   "source": [
    "class Carrello(Corpo): #Punto 4\n",
    "    def __init__(self, pos_carrello, m_carrello, v_carrello):\n",
    "        self.posizione = pos_carrello\n",
    "        Corpo.__init__(self, self.posizione)\n",
    "        self.m = Fraction(m_carrello)\n",
    "        self.v = Fraction(v_carrello)\n",
    "\n",
    "    def velocità(self):\n",
    "        return self.v\n",
    "\n",
    "    def cambio_v(self, nuova_v): #Punto 5: metodo \"imposta velocità\"\n",
    "        self.v = nuova_v\n",
    "\n",
    "    def mobile(self):\n",
    "        return True\n",
    "    \n",
    "    def __repr__(self):\n",
    "        rep2 = 'Carrello(x:{},m:{},v:{})'.format(self.posizione,self.m, self.v)\n",
    "        return rep2"
   ]
  },
  {
   "cell_type": "code",
   "execution_count": 11,
   "metadata": {
    "collapsed": false
   },
   "outputs": [
   ],
   "source": [
    "cart = Carrello(2, 3, 4)"
   ]
  },
  {
   "cell_type": "code",
   "execution_count": 12,
   "metadata": {
    "collapsed": false
   },
   "outputs": [
    {
     "data": {
      "text/plain": [
       "Fraction(4, 1)"
      ]
     },
     "execution_count": 12,
     "metadata": {
     },
     "output_type": "execute_result"
    }
   ],
   "source": [
    "cart.velocità()"
   ]
  },
  {
   "cell_type": "code",
   "execution_count": 13,
   "metadata": {
    "collapsed": false
   },
   "outputs": [
    {
     "data": {
      "text/plain": [
       "Fraction(24, 1)"
      ]
     },
     "execution_count": 13,
     "metadata": {
     },
     "output_type": "execute_result"
    }
   ],
   "source": [
    "cart.kin()"
   ]
  },
  {
   "cell_type": "code",
   "execution_count": 14,
   "metadata": {
    "collapsed": false
   },
   "outputs": [
    {
     "data": {
      "text/plain": [
       "Fraction(0, 1)"
      ]
     },
     "execution_count": 14,
     "metadata": {
     },
     "output_type": "execute_result"
    }
   ],
   "source": [
    "wall.velocità()"
   ]
  },
  {
   "cell_type": "code",
   "execution_count": 15,
   "metadata": {
    "collapsed": false
   },
   "outputs": [
    {
     "data": {
      "text/plain": [
       "Fraction(2, 1)"
      ]
     },
     "execution_count": 15,
     "metadata": {
     },
     "output_type": "execute_result"
    }
   ],
   "source": [
    "cart.posizione"
   ]
  },
  {
   "cell_type": "code",
   "execution_count": 16,
   "metadata": {
    "collapsed": false
   },
   "outputs": [
    {
     "data": {
      "text/plain": [
       "Carrello(x:10,m:3,v:4)"
      ]
     },
     "execution_count": 16,
     "metadata": {
     },
     "output_type": "execute_result"
    }
   ],
   "source": [
    "cart.muoviti_per_t(2)\n",
    "cart"
   ]
  },
  {
   "cell_type": "code",
   "execution_count": 18,
   "metadata": {
    "collapsed": false
   },
   "outputs": [
   ],
   "source": [
    "class Rotaia: #Punto 7\n",
    "    def __init__(self):\n",
    "        self.lista = []\n",
    "\n",
    "    def aggiungi_corpo(self, crp): #Punto 8\n",
    "        self.lista.append(crp)\n",
    "        self.lista.sort()\n",
    "\n",
    "    def prossimo_urto(self): #Punto 10\n",
    "        lista_tempi = []\n",
    "        for i in range(len(self.lista)-1):\n",
    "            #se velocità a dx è >= di quella a sx, l'oggetto i e l'oggetto i+1 non si toccheranno mai (il ciclo salta l'ultimo oggetto)\n",
    "            if (self.lista[i+1].velocità() < self.lista[i].velocità()):\n",
    "                t = (self.lista[i+1].posizione - self.lista[i].posizione)/(self.lista[i].velocità() - self.lista[i+1].velocità())\n",
    "                lista_tempi.append(t)\n",
    "        if (lista_tempi == []):\n",
    "            return None\n",
    "        return min(lista_tempi)\n",
    "\n",
    "    def kin_totale(self): #Punto 12\n",
    "        kin_total = 0\n",
    "        for i in range(0,len(self.lista)):\n",
    "            kin_total = kin_total + self.lista[i].kin()\n",
    "        return kin_total\n",
    "\n",
    "    def urti(self): #Punto 11\n",
    "        n_urti = 0\n",
    "\n",
    "        while (self.prossimo_urto() != None):\n",
    "            t_evo = self.prossimo_urto()\n",
    "\n",
    "            #aggiorno posizioni\n",
    "            for i  in range(len(self.lista)):\n",
    "                self.lista[i].muoviti_per_t(t_evo)\n",
    "            for ii in range(len(self.lista)-2):\n",
    "                if self.lista[ii].posizione == self.lista[ii+1].posizione == self.lista[ii+2].posizione:\n",
    "                    raise Exception(\"Can't handle urti a 3 corpi\")\n",
    "            #aggiorno velocità\n",
    "            for j in  range(len(self.lista)-1):\n",
    "                if self.lista[j].posizione == self.lista[j+1].posizione:\n",
    "                    n_urti += 1\n",
    "                    #se hanno il tipo diverso uno è un muro\n",
    "                    if type(self.lista[j]) != type(self.lista[j+1]):\n",
    "                        #i è il muro, i+1 è il carrello\n",
    "                        if   self.lista[j  ].mobile() == False:\n",
    "                             self.lista[j+1].cambio_v(-self.lista[j+1].velocità())\n",
    "                        #i è il carrello, i+1 è il muro\n",
    "                        elif self.lista[j+1].mobile() == False:\n",
    "                             self.lista[j  ].cambio_v(-self.lista[j  ].velocità())\n",
    "                        #ho due carrelli\n",
    "                    else:\n",
    "                        #cambio velocità carrello j\n",
    "                        old_speed1 = self.lista[j  ].velocità() #salvo la vecchia velocità del carrello a sx, per poter aggiornare quella del carrello a dx\n",
    "                        self.lista[j  ].cambio_v(  (self.lista[j  ].m - self.lista[j+1].m)/(self.lista[j  ].m + self.lista[j+1].m)*self.lista[j  ].velocità()   +\n",
    "                                                                2*self.lista[j+1].m /(self.lista[j  ].m + self.lista[j+1].m)*self.lista[j+1].velocità()  )\n",
    "                        #cambio velocità carrello j+1\n",
    "                        self.lista[j+1].cambio_v(  (self.lista[j+1].m - self.lista[j  ].m)/(self.lista[j  ].m + self.lista[j+1].m)*self.lista[j+1].velocità()   +\n",
    "                                                                2*self.lista[j  ].m /(self.lista[j  ].m + self.lista[j+1].m)*old_speed1  )\n",
    "        return n_urti"
   ]
  },
  {
   "cell_type": "code",
   "execution_count": 19,
   "metadata": {
    "collapsed": false
   },
   "outputs": [
   ],
   "source": [
    "trail = Rotaia()"
   ]
  },
  {
   "cell_type": "code",
   "execution_count": 20,
   "metadata": {
    "collapsed": false
   },
   "outputs": [
   ],
   "source": [
    "cart2 = Carrello(4, 1, -2)"
   ]
  },
  {
   "cell_type": "code",
   "execution_count": 21,
   "metadata": {
    "collapsed": false
   },
   "outputs": [
   ],
   "source": [
    "trail.aggiungi_corpo(cart2)\n"
   ]
  },
  {
   "cell_type": "code",
   "execution_count": 22,
   "metadata": {
    "collapsed": false
   },
   "outputs": [
    {
     "name": "stdout",
     "output_type": "stream",
     "text": [
      "[Carrello(x:4,m:1,v:-2)]\n"
     ]
    }
   ],
   "source": [
    "print(trail.lista)"
   ]
  },
  {
   "cell_type": "code",
   "execution_count": 23,
   "metadata": {
    "collapsed": false
   },
   "outputs": [
   ],
   "source": [
    "cart3 = Carrello(6, 3, -6)\n"
   ]
  },
  {
   "cell_type": "code",
   "execution_count": 24,
   "metadata": {
    "collapsed": false
   },
   "outputs": [
   ],
   "source": [
    "trail.aggiungi_corpo(cart3)"
   ]
  },
  {
   "cell_type": "code",
   "execution_count": 25,
   "metadata": {
    "collapsed": false
   },
   "outputs": [
   ],
   "source": [
    "trail.aggiungi_corpo(wall)"
   ]
  },
  {
   "cell_type": "code",
   "execution_count": 26,
   "metadata": {
    "collapsed": false
   },
   "outputs": [
    {
     "data": {
      "text/plain": [
       "True"
      ]
     },
     "execution_count": 26,
     "metadata": {
     },
     "output_type": "execute_result"
    }
   ],
   "source": [
    "wall <= cart"
   ]
  },
  {
   "cell_type": "code",
   "execution_count": 27,
   "metadata": {
    "collapsed": false
   },
   "outputs": [
    {
     "name": "stdout",
     "output_type": "stream",
     "text": [
      "[Muro(0), Carrello(x:4,m:1,v:-2), Carrello(x:6,m:3,v:-6)]\n"
     ]
    }
   ],
   "source": [
    "print(trail.lista)"
   ]
  },
  {
   "cell_type": "code",
   "execution_count": 28,
   "metadata": {
    "collapsed": false
   },
   "outputs": [
    {
     "data": {
      "text/plain": [
       "Fraction(1, 2)"
      ]
     },
     "execution_count": 28,
     "metadata": {
     },
     "output_type": "execute_result"
    }
   ],
   "source": [
    "trail.prossimo_urto()"
   ]
  },
  {
   "cell_type": "code",
   "execution_count": 29,
   "metadata": {
    "collapsed": false
   },
   "outputs": [
    {
     "name": "stdout",
     "output_type": "stream",
     "text": [
      "[Carrello(x:1,m:1,v:-1)]\n",
      "[Muro(0), Carrello(x:1,m:1,v:-1), Carrello(x:2,m:1,v:0), Carrello(x:3,m:1,v:0)]\n"
     ]
    },
    {
     "data": {
      "text/plain": [
       "Fraction(1, 2)"
      ]
     },
     "execution_count": 29,
     "metadata": {
     },
     "output_type": "execute_result"
    }
   ],
   "source": [
    "trail = Rotaia()\n",
    "cart2 = Carrello(1, 1, -1)\n",
    "trail.aggiungi_corpo(cart2)\n",
    "print(trail.lista)\n",
    "trail.aggiungi_corpo(wall)\n",
    "\n",
    "cart3 = Carrello(2, 1, 0)\n",
    "trail.aggiungi_corpo(cart3)\n",
    "\n",
    "cart4 = Carrello(3, 1, 0)\n",
    "trail.aggiungi_corpo(cart4)\n",
    "\n",
    "print(trail.lista)\n",
    "trail.kin_totale()"
   ]
  },
  {
   "cell_type": "code",
   "execution_count": 30,
   "metadata": {
    "collapsed": false
   },
   "outputs": [
    {
     "name": "stdout",
     "output_type": "stream",
     "text": [
      "Rotaia: [Carrello(x:0,m:1,v:2), Carrello(x:1,m:1,v:2), Carrello(x:2,m:1,v:2), Carrello(x:3,m:1,v:2), Carrello(x:4,m:1,v:-2), Carrello(x:5,m:1,v:-2), Carrello(x:6,m:1,v:-2), Carrello(x:7,m:1,v:-2), Carrello(x:8,m:1,v:-2), Carrello(x:9,m:1,v:-2)]\n",
      "en kin iniziale: 20\n",
      "en kin finale: 20\n",
      "numero totale urti: 24 , numero teorico: 24\n"
     ]
    }
   ],
   "source": [
    "#Punto 13\n",
    "n1n2_trail = Rotaia() \n",
    "m_carrelli = 1\n",
    "v_carrelli = 2\n",
    "n1 = 4\n",
    "n2 = 6\n",
    "dist_ij = 1\n",
    "dist_ii = 1\n",
    "dist_jj = 1\n",
    "[n1n2_trail.aggiungi_corpo(Carrello(dist_ii*i                                             ,m_carrelli, v_carrelli)) for i in range(0,n1)]\n",
    "[n1n2_trail.aggiungi_corpo(Carrello(n1n2_trail.lista[n1-1].posizione + dist_ij + dist_jj*j,m_carrelli,-v_carrelli)) for j in range(0,n2)]\n",
    "print('Rotaia:', n1n2_trail.lista)\n",
    "print(\"en kin iniziale:\", n1n2_trail.kin_totale()) #Punto 12\n",
    "n_urti = n1n2_trail.urti()\n",
    "print(\"en kin finale:\", n1n2_trail.kin_totale()) #Punto 12\n",
    "print('numero totale urti:', n_urti, \", numero teorico:\", n1*n2) #il numero teorico è proprio quello perchè ogni urto equivale a una trasposizione tra due carrelli"
   ]
  },
  {
   "cell_type": "code",
   "execution_count": 34,
   "metadata": {
    "collapsed": false
   },
   "outputs": [
    {
     "name": "stdout",
     "output_type": "stream",
     "text": [
      "Rotaia: [Muro(0), Carrello(x:2,m:1,v:0), Carrello(x:10,m:1000000,v:-2)]\n"
     ]
    },
    {
     "name": "stdout",
     "output_type": "stream",
     "text": [
      "prime 4 cifre di pigreco: 3.141\n"
     ]
    }
   ],
   "source": [
    "#Punto 14\n",
    "pi_trail = Rotaia()\n",
    "pi_muro      = Muro(0)\n",
    "pi_carrello1 = Carrello(2, 1 , 0)\n",
    "pi_trail.aggiungi_corpo(pi_muro)\n",
    "pi_trail.aggiungi_corpo(pi_carrello1)\n",
    "\n",
    "cifre_pi     = 4\n",
    "m_cart2      = 10**(2*(cifre_pi-1))\n",
    "pi_carrello2 = Carrello(10, m_cart2, -2)\n",
    "pi_trail.aggiungi_corpo(pi_carrello2)\n",
    "\n",
    "print('Rotaia:', pi_trail.lista)\n",
    "n_urti_pi = pi_trail.urti()\n",
    "pigreco = str(n_urti_pi)\n",
    "print(\"prime\",cifre_pi,\"cifre di pigreco:\", pigreco[0]+\".\"+pigreco[1:cifre_pi])"
   ]
  },
  {
   "cell_type": "code",
   "execution_count": 0,
   "metadata": {
    "collapsed": false
   },
   "outputs": [
   ],
   "source": [
   ]
  },
  {
   "cell_type": "code",
   "execution_count": 0,
   "metadata": {
    "collapsed": false
   },
   "outputs": [
   ],
   "source": [
   ]
  }
 ],
 "metadata": {
  "kernelspec": {
   "display_name": "Python 3 (Anaconda 2020)",
   "env": {
    "ADDR2LINE": "/ext/anaconda2020.02/bin/x86_64-conda_cos6-linux-gnu-addr2line",
    "ANACONDA2019": "$EXT/anaconda-2019.03",
    "ANACONDA2020": "/ext/anaconda2020.02",
    "ANACONDA3": "$EXT/anaconda3",
    "ANACONDA5": "$EXT/anaconda5",
    "AR": "/ext/anaconda2020.02/bin/x86_64-conda_cos6-linux-gnu-ar",
    "AS": "/ext/anaconda2020.02/bin/x86_64-conda_cos6-linux-gnu-as",
    "CC": "/ext/anaconda2020.02/bin/x86_64-conda_cos6-linux-gnu-cc",
    "CFLAGS": "-march=nocona -mtune=haswell -ftree-vectorize -fPIC -fstack-protector-strong -fno-plt -O2 -ffunction-sections -pipe -isystem /ext/anaconda2020.02/include",
    "CMAKE_PREFIX_PATH": "/ext/anaconda2020.02:/ext/anaconda2020.02/x86_64-conda_cos6-linux-gnu/sysroot/usr",
    "CONDA_BACKUP_HOST": "x86_64-conda_cos6-linux-gnu",
    "CONDA_BUILD_SYSROOT": "/ext/anaconda2020.02/x86_64-conda_cos6-linux-gnu/sysroot",
    "CONDA_DEFAULT_ENV": "base",
    "CONDA_EXE": "/ext/anaconda2020.02/bin/conda",
    "CONDA_MKL_INTERFACE_LAYER_BACKUP": "",
    "CONDA_PREFIX": "/ext/anaconda2020.02",
    "CONDA_PROMPT_MODIFIER": "(base) ",
    "CONDA_PYTHON_EXE": "/ext/anaconda2020.02/bin/python",
    "CONDA_SHLVL": "1",
    "CPP": "/ext/anaconda2020.02/bin/x86_64-conda_cos6-linux-gnu-cpp",
    "CPPFLAGS": "-DNDEBUG -D_FORTIFY_SOURCE=2 -O2 -isystem /ext/anaconda2020.02/include",
    "CXX": "/ext/anaconda2020.02/bin/x86_64-conda_cos6-linux-gnu-c++",
    "CXXFILT": "/ext/anaconda2020.02/bin/x86_64-conda_cos6-linux-gnu-c++filt",
    "CXXFLAGS": "-fvisibility-inlines-hidden -std=c++17 -fmessage-length=0 -march=nocona -mtune=haswell -ftree-vectorize -fPIC -fstack-protector-strong -fno-plt -O2 -ffunction-sections -pipe -isystem /ext/anaconda2020.02/include",
    "DEBUG_CFLAGS": "-march=nocona -mtune=haswell -ftree-vectorize -fPIC -fstack-protector-all -fno-plt -Og -g -Wall -Wextra -fvar-tracking-assignments -ffunction-sections -pipe -isystem /ext/anaconda2020.02/include",
    "DEBUG_CPPFLAGS": "-D_DEBUG -D_FORTIFY_SOURCE=2 -Og -isystem /ext/anaconda2020.02/include",
    "DEBUG_CXXFLAGS": "-fvisibility-inlines-hidden -std=c++17 -fmessage-length=0 -march=nocona -mtune=haswell -ftree-vectorize -fPIC -fstack-protector-all -fno-plt -Og -g -Wall -Wextra -fvar-tracking-assignments -ffunction-sections -pipe -isystem /ext/anaconda2020.02/include",
    "DEBUG_FFLAGS": "-fopenmp -march=nocona -mtune=haswell -ftree-vectorize -fPIC -fstack-protector-strong -fno-plt -O2 -ffunction-sections -pipe -isystem /ext/anaconda2020.02/include -fopenmp -march=nocona -mtune=haswell -ftree-vectorize -fPIC -fstack-protector-all -fno-plt -Og -g -Wall -Wextra -fcheck=all -fbacktrace -fimplicit-none -fvar-tracking-assignments -ffunction-sections -pipe",
    "DEBUG_FORTRANFLAGS": "-fopenmp -march=nocona -mtune=haswell -ftree-vectorize -fPIC -fstack-protector-strong -fno-plt -O2 -ffunction-sections -pipe -isystem /ext/anaconda2020.02/include -fopenmp -march=nocona -mtune=haswell -ftree-vectorize -fPIC -fstack-protector-all -fno-plt -Og -g -Wall -Wextra -fcheck=all -fbacktrace -fimplicit-none -fvar-tracking-assignments -ffunction-sections -pipe",
    "ELFEDIT": "/ext/anaconda2020.02/bin/x86_64-conda_cos6-linux-gnu-elfedit",
    "F77": "/ext/anaconda2020.02/bin/x86_64-conda_cos6-linux-gnu-gfortran",
    "F90": "/ext/anaconda2020.02/bin/x86_64-conda_cos6-linux-gnu-gfortran",
    "F95": "/ext/anaconda2020.02/bin/x86_64-conda_cos6-linux-gnu-f95",
    "FC": "/ext/anaconda2020.02/bin/x86_64-conda_cos6-linux-gnu-gfortran",
    "FFLAGS": "-fopenmp -march=nocona -mtune=haswell -ftree-vectorize -fPIC -fstack-protector-strong -fno-plt -O2 -ffunction-sections -pipe -isystem /ext/anaconda2020.02/include",
    "FORTRANFLAGS": "-fopenmp -march=nocona -mtune=haswell -ftree-vectorize -fPIC -fstack-protector-strong -fno-plt -O2 -ffunction-sections -pipe -isystem /ext/anaconda2020.02/include",
    "GCC": "/ext/anaconda2020.02/bin/x86_64-conda_cos6-linux-gnu-gcc",
    "GCC_AR": "/ext/anaconda2020.02/bin/x86_64-conda_cos6-linux-gnu-gcc-ar",
    "GCC_NM": "/ext/anaconda2020.02/bin/x86_64-conda_cos6-linux-gnu-gcc-nm",
    "GCC_RANLIB": "/ext/anaconda2020.02/bin/x86_64-conda_cos6-linux-gnu-gcc-ranlib",
    "GDAL_DATA": "/ext/anaconda2020.02/share/gdal",
    "GFORTRAN": "/ext/anaconda2020.02/bin/x86_64-conda_cos6-linux-gnu-gfortran",
    "GPROF": "/ext/anaconda2020.02/bin/x86_64-conda_cos6-linux-gnu-gprof",
    "GXX": "/ext/anaconda2020.02/bin/x86_64-conda_cos6-linux-gnu-g++",
    "JAVA_HOME": "/ext/anaconda2020.02",
    "JAVA_HOME_CONDA_BACKUP": "",
    "JAVA_LD_LIBRARY_PATH": "/ext/anaconda2020.02/lib/server",
    "LD": "/ext/anaconda2020.02/bin/x86_64-conda_cos6-linux-gnu-ld",
    "LDFLAGS": "-Wl,-O2 -Wl,--sort-common -Wl,--as-needed -Wl,-z,relro -Wl,-z,now -Wl,--disable-new-dtags -Wl,--gc-sections -Wl,-rpath,/ext/anaconda2020.02/lib -Wl,-rpath-link,/ext/anaconda2020.02/lib -L/ext/anaconda2020.02/lib",
    "LD_GOLD": "/ext/anaconda2020.02/bin/x86_64-conda_cos6-linux-gnu-ld.gold",
    "LD_LIBRARY_PATH": "/ext/anaconda2020.02/lib",
    "MKL_INTERFACE_LAYER": "LP64,GNU",
    "MKL_THREADING_LAYER": "GNU",
    "NM": "/ext/anaconda2020.02/bin/x86_64-conda_cos6-linux-gnu-nm",
    "OBJCOPY": "/ext/anaconda2020.02/bin/x86_64-conda_cos6-linux-gnu-objcopy",
    "OBJDUMP": "/ext/anaconda2020.02/bin/x86_64-conda_cos6-linux-gnu-objdump",
    "OLDPWD": "/ext/anaconda2020.02",
    "PATH": "/ext/anaconda2020.02/bin:/ext/anaconda2020.02/bin:/ext/anaconda2020.02/condabin:/cocalc/bin:/cocalc/src/smc-project/bin:/home/salvus/bin:/home/salvus/.local/bin:/usr/lib/xpra:/ext/bin:/opt/ghc/bin:/usr/local/sbin:/usr/local/bin:/usr/sbin:/usr/bin:/sbin:/bin:/snap/bin:/usr/lib/postgresql/10/bin:/ext/data/homer/bin:/ext/data/weblogo",
    "PROJ_LIB": "/ext/anaconda2020.02/share/proj",
    "RANLIB": "/ext/anaconda2020.02/bin/x86_64-conda_cos6-linux-gnu-ranlib",
    "READELF": "/ext/anaconda2020.02/bin/x86_64-conda_cos6-linux-gnu-readelf",
    "RSTUDIO_WHICH_R": "/ext/anaconda2020.02/bin/R",
    "SIZE": "/ext/anaconda2020.02/bin/x86_64-conda_cos6-linux-gnu-size",
    "STRINGS": "/ext/anaconda2020.02/bin/x86_64-conda_cos6-linux-gnu-strings",
    "STRIP": "/ext/anaconda2020.02/bin/x86_64-conda_cos6-linux-gnu-strip",
    "_CE_CONDA": "",
    "_CE_M": "",
    "_CONDA_PYTHON_SYSCONFIGDATA_NAME": "_sysconfigdata_x86_64_conda_cos6_linux_gnu"
   },
   "language": "python",
   "metadata": {
    "cocalc": {
     "description": "Python/R distribution for data science",
     "priority": 5,
     "url": "https://www.anaconda.com/distribution/"
    }
   },
   "name": "anaconda2020",
   "resource_dir": "/ext/jupyter/kernels/anaconda2020"
  },
  "language_info": {
   "codemirror_mode": {
    "name": "ipython",
    "version": 3
   },
   "file_extension": ".py",
   "mimetype": "text/x-python",
   "name": "python",
   "nbconvert_exporter": "python",
   "pygments_lexer": "ipython3",
   "version": "3.7.8"
  }
 },
 "nbformat": 4,
 "nbformat_minor": 4
}